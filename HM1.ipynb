{
 "cells": [
  {
   "cell_type": "code",
   "execution_count": 1,
   "id": "288ff604-36e3-4acd-abad-567f6f138f1f",
   "metadata": {},
   "outputs": [],
   "source": [
    "import cv2\n",
    "import numpy as np"
   ]
  },
  {
   "cell_type": "code",
   "execution_count": 2,
   "id": "a25279f8-eacf-4ec8-b717-a36c02f9747c",
   "metadata": {},
   "outputs": [],
   "source": [
    "img = cv2.imread('99e26d1520878b7d4051608e66d76332.jpg',0)\n",
    "drawing = False # true if mouse is pressed\n",
    "ix,iy = -1,-1\n",
    "# mouse callback function\n",
    "def draw_circle(event,x,y,flags,param):\n",
    "    global ix,iy,drawing\n",
    "    \n",
    "    if event == cv2.EVENT_LBUTTONDOWN:\n",
    "        drawing = True\n",
    "        ix,iy = x,y\n",
    "    elif event == cv2.EVENT_MOUSEMOVE:\n",
    "        if drawing == True:\n",
    "            img[:] = cv2.imread('99e26d1520878b7d4051608e66d76332.jpg',0)\n",
    "            cv2.rectangle(img,(ix,iy),(x,y),(0,255,0),3)\n",
    "    elif event == cv2.EVENT_LBUTTONUP:\n",
    "        drawing = False\n",
    "        cv2.rectangle(img,(ix,iy),(x,y),(0,255,0),3)\n",
    "        \n",
    "\n",
    "def nothing(x):\n",
    "    pass\n",
    "        \n",
    "\n",
    "\n"
   ]
  },
  {
   "cell_type": "code",
   "execution_count": 3,
   "id": "fb2be35f-11ed-40da-95f1-fdf244efa795",
   "metadata": {},
   "outputs": [],
   "source": [
    "img = cv2.imread('99e26d1520878b7d4051608e66d76332.jpg',0)\n",
    "cv2.namedWindow('image')\n",
    "cv2.setMouseCallback('image',draw_circle)\n",
    "cv2.createTrackbar('value','image',0,255,nothing)\n",
    "\n",
    "while(1):\n",
    "    cv2.imshow('image',img)\n",
    "    k = cv2.waitKey(1) & 0xFF\n",
    "    if k == 27:\n",
    "        break\n",
    "        \n",
    "\n",
    "\n",
    "cv2.destroyAllWindows()"
   ]
  },
  {
   "cell_type": "code",
   "execution_count": null,
   "id": "049c136f-fc2c-48c0-98e1-80646c1b74aa",
   "metadata": {},
   "outputs": [],
   "source": []
  }
 ],
 "metadata": {
  "kernelspec": {
   "display_name": "Python 3",
   "language": "python",
   "name": "python3"
  },
  "language_info": {
   "codemirror_mode": {
    "name": "ipython",
    "version": 3
   },
   "file_extension": ".py",
   "mimetype": "text/x-python",
   "name": "python",
   "nbconvert_exporter": "python",
   "pygments_lexer": "ipython3",
   "version": "3.9.4"
  }
 },
 "nbformat": 4,
 "nbformat_minor": 5
}
