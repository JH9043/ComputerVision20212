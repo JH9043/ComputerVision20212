{
 "cells": [
  {
   "cell_type": "code",
   "execution_count": 1,
   "id": "46396abc-4435-4e7c-aec9-03cdea33c248",
   "metadata": {},
   "outputs": [],
   "source": [
    "t = [1, 2, 4, 5]"
   ]
  },
  {
   "cell_type": "code",
   "execution_count": 2,
   "id": "95a5f8cf-560a-42f2-9f58-5a9e83f45dbc",
   "metadata": {},
   "outputs": [
    {
     "data": {
      "text/plain": [
       "False"
      ]
     },
     "execution_count": 2,
     "metadata": {},
     "output_type": "execute_result"
    }
   ],
   "source": [
    "3 in t"
   ]
  },
  {
   "cell_type": "code",
   "execution_count": 3,
   "id": "7c14be07-b0e3-4a45-bb19-b9e02e913101",
   "metadata": {},
   "outputs": [
    {
     "data": {
      "text/plain": [
       "True"
      ]
     },
     "execution_count": 3,
     "metadata": {},
     "output_type": "execute_result"
    }
   ],
   "source": [
    "4 in t"
   ]
  },
  {
   "cell_type": "code",
   "execution_count": 4,
   "id": "5f7bc09d-1b7c-431d-9885-b7e092152405",
   "metadata": {},
   "outputs": [
    {
     "data": {
      "text/plain": [
       "False"
      ]
     },
     "execution_count": 4,
     "metadata": {},
     "output_type": "execute_result"
    }
   ],
   "source": [
    "4 not in t"
   ]
  },
  {
   "cell_type": "code",
   "execution_count": 5,
   "id": "c75c787b-454e-4aee-ab97-11f29739993c",
   "metadata": {},
   "outputs": [],
   "source": [
    "a = 'abcde'"
   ]
  },
  {
   "cell_type": "code",
   "execution_count": 6,
   "id": "eb28d6c5-8308-4c42-8720-da82303dfb3f",
   "metadata": {},
   "outputs": [
    {
     "data": {
      "text/plain": [
       "True"
      ]
     },
     "execution_count": 6,
     "metadata": {},
     "output_type": "execute_result"
    }
   ],
   "source": [
    "'c' in a"
   ]
  },
  {
   "cell_type": "code",
   "execution_count": 7,
   "id": "322bc39c-54a9-4a45-b73c-197f619405e3",
   "metadata": {},
   "outputs": [
    {
     "data": {
      "text/plain": [
       "True"
      ]
     },
     "execution_count": 7,
     "metadata": {},
     "output_type": "execute_result"
    }
   ],
   "source": [
    "'cd' in a"
   ]
  },
  {
   "cell_type": "code",
   "execution_count": 8,
   "id": "d1ebf2a8-6f67-4d84-96aa-c8bdb8df1a7a",
   "metadata": {},
   "outputs": [
    {
     "data": {
      "text/plain": [
       "False"
      ]
     },
     "execution_count": 8,
     "metadata": {},
     "output_type": "execute_result"
    }
   ],
   "source": [
    "'ac' in a"
   ]
  },
  {
   "cell_type": "code",
   "execution_count": 9,
   "id": "ef3c95eb-9cfe-48b9-b058-7255c2e5e212",
   "metadata": {},
   "outputs": [
    {
     "data": {
      "text/plain": [
       "(1, 2, 3, 4, 5, 6)"
      ]
     },
     "execution_count": 9,
     "metadata": {},
     "output_type": "execute_result"
    }
   ],
   "source": [
    "(1, 2, 3) + (4, 5, 6)"
   ]
  },
  {
   "cell_type": "code",
   "execution_count": 10,
   "id": "ade1e31f-6712-4ade-8fd3-705aa0ad57eb",
   "metadata": {},
   "outputs": [
    {
     "data": {
      "text/plain": [
       "[1, 2, 3, 4, 5, 6]"
      ]
     },
     "execution_count": 10,
     "metadata": {},
     "output_type": "execute_result"
    }
   ],
   "source": [
    "[1, 2, 3] + [4, 5, 6]"
   ]
  },
  {
   "cell_type": "code",
   "execution_count": 11,
   "id": "266203ab-27e1-43f6-bd6a-5dce91bb464c",
   "metadata": {},
   "outputs": [
    {
     "data": {
      "text/plain": [
       "'Hello World'"
      ]
     },
     "execution_count": 11,
     "metadata": {},
     "output_type": "execute_result"
    }
   ],
   "source": [
    "\"Hello\" + \" \" + \"World\""
   ]
  },
  {
   "cell_type": "code",
   "execution_count": 12,
   "id": "2870107c-e2ba-4556-a93f-d6e60b2bb612",
   "metadata": {},
   "outputs": [],
   "source": [
    "li = ['abc', 23, 4.34, 23]"
   ]
  },
  {
   "cell_type": "code",
   "execution_count": 13,
   "id": "8f358363-df0d-42b8-8df9-0915801899d8",
   "metadata": {},
   "outputs": [],
   "source": [
    "li[1] = 45"
   ]
  },
  {
   "cell_type": "code",
   "execution_count": 14,
   "id": "05878c10-e98a-465b-8525-4189a6c82a9b",
   "metadata": {},
   "outputs": [
    {
     "data": {
      "text/plain": [
       "['abc', 45, 4.34, 23]"
      ]
     },
     "execution_count": 14,
     "metadata": {},
     "output_type": "execute_result"
    }
   ],
   "source": [
    "li"
   ]
  },
  {
   "cell_type": "code",
   "execution_count": 15,
   "id": "c9c4f058-610c-41d9-b058-8de28be1999d",
   "metadata": {},
   "outputs": [],
   "source": [
    "t = (23, 'abc', 4.56, (2,3), 'def')"
   ]
  },
  {
   "cell_type": "code",
   "execution_count": 16,
   "id": "de7352c7-48ad-40db-ac1b-7a9b2672c5ec",
   "metadata": {},
   "outputs": [
    {
     "ename": "TypeError",
     "evalue": "'tuple' object does not support item assignment",
     "output_type": "error",
     "traceback": [
      "\u001b[1;31m---------------------------------------------------------------------------\u001b[0m",
      "\u001b[1;31mTypeError\u001b[0m                                 Traceback (most recent call last)",
      "\u001b[1;32m<ipython-input-16-0c5a1fd0e648>\u001b[0m in \u001b[0;36m<module>\u001b[1;34m\u001b[0m\n\u001b[1;32m----> 1\u001b[1;33m \u001b[0mt\u001b[0m\u001b[1;33m[\u001b[0m\u001b[1;36m2\u001b[0m\u001b[1;33m]\u001b[0m \u001b[1;33m=\u001b[0m \u001b[1;36m3.14\u001b[0m\u001b[1;33m\u001b[0m\u001b[1;33m\u001b[0m\u001b[0m\n\u001b[0m",
      "\u001b[1;31mTypeError\u001b[0m: 'tuple' object does not support item assignment"
     ]
    }
   ],
   "source": [
    "t[2] = 3.14"
   ]
  },
  {
   "cell_type": "code",
   "execution_count": 17,
   "id": "59b1b042-4eae-4118-b0c1-7ec681635052",
   "metadata": {},
   "outputs": [],
   "source": [
    "li = [1, 11, 3, 4, 5]"
   ]
  },
  {
   "cell_type": "code",
   "execution_count": 18,
   "id": "c922d5f1-d357-46b6-ac03-707d7390aec8",
   "metadata": {},
   "outputs": [
    {
     "ename": "AttributeError",
     "evalue": "'list' object has no attribute 'appned'",
     "output_type": "error",
     "traceback": [
      "\u001b[1;31m---------------------------------------------------------------------------\u001b[0m",
      "\u001b[1;31mAttributeError\u001b[0m                            Traceback (most recent call last)",
      "\u001b[1;32m<ipython-input-18-b23940b7a6a5>\u001b[0m in \u001b[0;36m<module>\u001b[1;34m\u001b[0m\n\u001b[1;32m----> 1\u001b[1;33m \u001b[0mli\u001b[0m\u001b[1;33m.\u001b[0m\u001b[0mappned\u001b[0m\u001b[1;33m(\u001b[0m\u001b[1;34m'a'\u001b[0m\u001b[1;33m)\u001b[0m\u001b[1;33m\u001b[0m\u001b[1;33m\u001b[0m\u001b[0m\n\u001b[0m",
      "\u001b[1;31mAttributeError\u001b[0m: 'list' object has no attribute 'appned'"
     ]
    }
   ],
   "source": [
    "li.appned('a')"
   ]
  },
  {
   "cell_type": "code",
   "execution_count": 19,
   "id": "4202f50b-aced-4453-8dc2-9fadd4738e55",
   "metadata": {},
   "outputs": [],
   "source": [
    "li.append('a')"
   ]
  },
  {
   "cell_type": "code",
   "execution_count": 20,
   "id": "4d535a25-eff1-4e2e-b170-ae577e9703b7",
   "metadata": {},
   "outputs": [
    {
     "data": {
      "text/plain": [
       "[1, 11, 3, 4, 5, 'a']"
      ]
     },
     "execution_count": 20,
     "metadata": {},
     "output_type": "execute_result"
    }
   ],
   "source": [
    "li"
   ]
  },
  {
   "cell_type": "code",
   "execution_count": 21,
   "id": "46e35f52-cc04-43f3-a41b-7f65f62b6b36",
   "metadata": {},
   "outputs": [],
   "source": [
    "li.insert(2, 'i')"
   ]
  },
  {
   "cell_type": "code",
   "execution_count": 22,
   "id": "a754eebf-8a5c-4abb-a474-3fa7c15c7730",
   "metadata": {},
   "outputs": [
    {
     "data": {
      "text/plain": [
       "[1, 11, 'i', 3, 4, 5, 'a']"
      ]
     },
     "execution_count": 22,
     "metadata": {},
     "output_type": "execute_result"
    }
   ],
   "source": [
    "li"
   ]
  },
  {
   "cell_type": "code",
   "execution_count": 23,
   "id": "4921945a-7969-4bc8-94a1-61cdc9887e8c",
   "metadata": {},
   "outputs": [],
   "source": [
    "li.extend([9, 8, 7])"
   ]
  },
  {
   "cell_type": "code",
   "execution_count": 24,
   "id": "08187e5d-db8e-44e2-8e36-6133d1eee86f",
   "metadata": {},
   "outputs": [
    {
     "data": {
      "text/plain": [
       "[1, 11, 'i', 3, 4, 5, 'a', 9, 8, 7]"
      ]
     },
     "execution_count": 24,
     "metadata": {},
     "output_type": "execute_result"
    }
   ],
   "source": [
    "li"
   ]
  },
  {
   "cell_type": "code",
   "execution_count": 25,
   "id": "16edbd6d-286f-40b4-a8cb-b70f9e4cca51",
   "metadata": {},
   "outputs": [],
   "source": [
    "li.append([10, 11, 12])"
   ]
  },
  {
   "cell_type": "code",
   "execution_count": 26,
   "id": "6acd9e1e-05b8-4074-b6e7-cb1328f6831e",
   "metadata": {},
   "outputs": [
    {
     "data": {
      "text/plain": [
       "[1, 11, 'i', 3, 4, 5, 'a', 9, 8, 7, [10, 11, 12]]"
      ]
     },
     "execution_count": 26,
     "metadata": {},
     "output_type": "execute_result"
    }
   ],
   "source": [
    "li"
   ]
  },
  {
   "cell_type": "code",
   "execution_count": 27,
   "id": "15d79c35-05ec-45a0-bc0a-05172f7bd7d2",
   "metadata": {},
   "outputs": [],
   "source": [
    "li = ['a', 'b', 'c', 'b']"
   ]
  },
  {
   "cell_type": "code",
   "execution_count": 28,
   "id": "57e1361c-6409-4b1f-9797-8a67616758cb",
   "metadata": {},
   "outputs": [
    {
     "data": {
      "text/plain": [
       "1"
      ]
     },
     "execution_count": 28,
     "metadata": {},
     "output_type": "execute_result"
    }
   ],
   "source": [
    "li.index('b')"
   ]
  },
  {
   "cell_type": "code",
   "execution_count": 29,
   "id": "ffa38547-3077-4d05-b47b-1a27d539529b",
   "metadata": {},
   "outputs": [
    {
     "data": {
      "text/plain": [
       "2"
      ]
     },
     "execution_count": 29,
     "metadata": {},
     "output_type": "execute_result"
    }
   ],
   "source": [
    "li.count('b')"
   ]
  },
  {
   "cell_type": "code",
   "execution_count": 30,
   "id": "6fb80953-122a-4b4f-9cd1-10c62da0cc2e",
   "metadata": {},
   "outputs": [],
   "source": [
    "li.remove('b')"
   ]
  },
  {
   "cell_type": "code",
   "execution_count": 31,
   "id": "fddb1a7a-bdf5-413b-ae5a-d21eaacb92ab",
   "metadata": {},
   "outputs": [
    {
     "data": {
      "text/plain": [
       "['a', 'c', 'b']"
      ]
     },
     "execution_count": 31,
     "metadata": {},
     "output_type": "execute_result"
    }
   ],
   "source": [
    "li"
   ]
  },
  {
   "cell_type": "code",
   "execution_count": 32,
   "id": "496d9514-5f96-42fc-bef0-1f39c2439c2f",
   "metadata": {},
   "outputs": [],
   "source": [
    "li = [5, 2, 6, 8]"
   ]
  },
  {
   "cell_type": "code",
   "execution_count": 33,
   "id": "414191da-e6f8-49ed-b86a-60d63ef5f777",
   "metadata": {},
   "outputs": [],
   "source": [
    "li.reverse()"
   ]
  },
  {
   "cell_type": "code",
   "execution_count": 34,
   "id": "4289597f-bb51-43fe-bcf7-518be9caa0d7",
   "metadata": {},
   "outputs": [
    {
     "data": {
      "text/plain": [
       "[8, 6, 2, 5]"
      ]
     },
     "execution_count": 34,
     "metadata": {},
     "output_type": "execute_result"
    }
   ],
   "source": [
    "li"
   ]
  },
  {
   "cell_type": "code",
   "execution_count": 35,
   "id": "603cde84-69fb-47f1-85dc-d848566e24d6",
   "metadata": {},
   "outputs": [
    {
     "ename": "NameError",
     "evalue": "name 'some_function' is not defined",
     "output_type": "error",
     "traceback": [
      "\u001b[1;31m---------------------------------------------------------------------------\u001b[0m",
      "\u001b[1;31mNameError\u001b[0m                                 Traceback (most recent call last)",
      "\u001b[1;32m<ipython-input-35-6f09f4ab7761>\u001b[0m in \u001b[0;36m<module>\u001b[1;34m\u001b[0m\n\u001b[1;32m----> 1\u001b[1;33m \u001b[0mli\u001b[0m\u001b[1;33m.\u001b[0m\u001b[0msort\u001b[0m\u001b[1;33m(\u001b[0m\u001b[0msome_function\u001b[0m\u001b[1;33m)\u001b[0m\u001b[1;33m\u001b[0m\u001b[1;33m\u001b[0m\u001b[0m\n\u001b[0m",
      "\u001b[1;31mNameError\u001b[0m: name 'some_function' is not defined"
     ]
    }
   ],
   "source": [
    "li.sort(some_function)"
   ]
  },
  {
   "cell_type": "code",
   "execution_count": 36,
   "id": "f664a606-baad-4558-9f61-a2b9219e77b6",
   "metadata": {},
   "outputs": [
    {
     "ename": "NameError",
     "evalue": "name 'tu' is not defined",
     "output_type": "error",
     "traceback": [
      "\u001b[1;31m---------------------------------------------------------------------------\u001b[0m",
      "\u001b[1;31mNameError\u001b[0m                                 Traceback (most recent call last)",
      "\u001b[1;32m<ipython-input-36-0e5d17b5505a>\u001b[0m in \u001b[0;36m<module>\u001b[1;34m\u001b[0m\n\u001b[1;32m----> 1\u001b[1;33m \u001b[0mli\u001b[0m \u001b[1;33m=\u001b[0m \u001b[0mlist\u001b[0m\u001b[1;33m(\u001b[0m\u001b[0mtu\u001b[0m\u001b[1;33m)\u001b[0m\u001b[1;33m\u001b[0m\u001b[1;33m\u001b[0m\u001b[0m\n\u001b[0m",
      "\u001b[1;31mNameError\u001b[0m: name 'tu' is not defined"
     ]
    }
   ],
   "source": [
    "li = list(tu)"
   ]
  },
  {
   "cell_type": "code",
   "execution_count": 37,
   "id": "57efdec4-a60f-4c74-971a-ade7f9787ca5",
   "metadata": {},
   "outputs": [],
   "source": [
    "li = [23, 'abc', 4.56, (2, 3), 'def']"
   ]
  },
  {
   "cell_type": "code",
   "execution_count": 38,
   "id": "a42c8786-f616-453d-b1cf-8e66401b10aa",
   "metadata": {},
   "outputs": [],
   "source": [
    "tu = (23, 'abc', 4.56, (2, 3), 'def')"
   ]
  },
  {
   "cell_type": "code",
   "execution_count": 39,
   "id": "bc42327d-faf6-4d2f-bf43-44b013eec9ab",
   "metadata": {},
   "outputs": [],
   "source": [
    "li = [\"abc\", 34, 4.34, 23]"
   ]
  },
  {
   "cell_type": "code",
   "execution_count": 40,
   "id": "86abb7c3-5f40-46ca-b3e0-8a45bc9f6348",
   "metadata": {},
   "outputs": [],
   "source": [
    "li = list(tu)"
   ]
  },
  {
   "cell_type": "code",
   "execution_count": 41,
   "id": "0680d631-c7b3-4bcd-99bb-392af448c560",
   "metadata": {},
   "outputs": [],
   "source": [
    "tu = tuple(li)"
   ]
  },
  {
   "cell_type": "code",
   "execution_count": null,
   "id": "1a2456e2-5bc6-4f4e-81f5-5410ad9510e7",
   "metadata": {},
   "outputs": [],
   "source": []
  }
 ],
 "metadata": {
  "kernelspec": {
   "display_name": "Python 3",
   "language": "python",
   "name": "python3"
  },
  "language_info": {
   "codemirror_mode": {
    "name": "ipython",
    "version": 3
   },
   "file_extension": ".py",
   "mimetype": "text/x-python",
   "name": "python",
   "nbconvert_exporter": "python",
   "pygments_lexer": "ipython3",
   "version": "3.8.8"
  }
 },
 "nbformat": 4,
 "nbformat_minor": 5
}
