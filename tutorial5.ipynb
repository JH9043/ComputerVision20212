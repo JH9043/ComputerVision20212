{
 "cells": [
  {
   "cell_type": "markdown",
   "id": "3553420d-dddd-4d96-8643-61863974b27b",
   "metadata": {},
   "source": [
    "## Control Flow"
   ]
  },
  {
   "cell_type": "code",
   "execution_count": 17,
   "id": "601b3381-1eff-43bf-96ee-2d2b09e4dd58",
   "metadata": {},
   "outputs": [],
   "source": [
    "x = 3"
   ]
  },
  {
   "cell_type": "code",
   "execution_count": 18,
   "id": "8b108a10-444e-4d66-a64b-d267e69f1e8a",
   "metadata": {},
   "outputs": [
    {
     "name": "stdout",
     "output_type": "stream",
     "text": [
      "X equals 3.\n",
      "This is outside the 'if'.\n"
     ]
    }
   ],
   "source": [
    "if x == 3:\n",
    "    print (\"X equals 3.\")\n",
    "elif x == 2:\n",
    "    print (\"X equals 2.\")\n",
    "else:\n",
    "    print (\"X equals something else.\")\n",
    "print (\"This is outside the 'if'.\")"
   ]
  },
  {
   "cell_type": "code",
   "execution_count": 19,
   "id": "b1b1e5b4-2b40-41bf-b3e0-2c333994ed56",
   "metadata": {},
   "outputs": [],
   "source": [
    "x = 2"
   ]
  },
  {
   "cell_type": "code",
   "execution_count": 20,
   "id": "af605d7f-455b-400e-95e4-bb27e1ed5f29",
   "metadata": {},
   "outputs": [
    {
     "name": "stdout",
     "output_type": "stream",
     "text": [
      "X equals 2.\n",
      "This is outside the 'if'.\n"
     ]
    }
   ],
   "source": [
    "if x == 3:\n",
    "    print (\"X equals 3.\")\n",
    "elif x == 2:\n",
    "    print (\"X equals 2.\")\n",
    "else:\n",
    "    print (\"X equals something else.\")\n",
    "print (\"This is outside the 'if'.\")"
   ]
  },
  {
   "cell_type": "code",
   "execution_count": 21,
   "id": "3454bdc0-74a4-4181-8c05-893f0ae4bc92",
   "metadata": {},
   "outputs": [],
   "source": [
    "x = 4"
   ]
  },
  {
   "cell_type": "code",
   "execution_count": 22,
   "id": "59269d25-c3bb-48f8-861e-d677f3a20c89",
   "metadata": {},
   "outputs": [
    {
     "name": "stdout",
     "output_type": "stream",
     "text": [
      "X equals something else.\n",
      "This is outside the 'if'.\n"
     ]
    }
   ],
   "source": [
    "if x == 3:\n",
    "    print (\"X equals 3.\")\n",
    "elif x == 2:\n",
    "    print (\"X equals 2.\")\n",
    "else:\n",
    "    print (\"X equals something else.\")\n",
    "print (\"This is outside the 'if'.\")"
   ]
  },
  {
   "cell_type": "code",
   "execution_count": 23,
   "id": "9ce664df-5446-494b-9b29-95e860cd54a6",
   "metadata": {},
   "outputs": [],
   "source": [
    "x = 3"
   ]
  },
  {
   "cell_type": "code",
   "execution_count": 25,
   "id": "88467e60-cefd-451b-a060-2df1f01faa82",
   "metadata": {},
   "outputs": [
    {
     "name": "stdout",
     "output_type": "stream",
     "text": [
      "3 still in the loop\n",
      "4 still in the loop\n"
     ]
    }
   ],
   "source": [
    "while x < 5:\n",
    "    print (x, \"still in the loop\")\n",
    "    x = x + 1"
   ]
  },
  {
   "cell_type": "code",
   "execution_count": 26,
   "id": "8eb2264e-a742-4bd0-99da-23f8a43f7d67",
   "metadata": {},
   "outputs": [],
   "source": [
    "x = 6"
   ]
  },
  {
   "cell_type": "code",
   "execution_count": 27,
   "id": "b22c99a5-1b04-45cd-835a-3123becdfe45",
   "metadata": {},
   "outputs": [],
   "source": [
    "while x < 5:\n",
    "    print (x, \"still in the loop\")"
   ]
  },
  {
   "cell_type": "code",
   "execution_count": 31,
   "id": "ac716bf3-924e-4061-b4b0-2b40dcb68d41",
   "metadata": {},
   "outputs": [],
   "source": [
    "x = 3"
   ]
  },
  {
   "cell_type": "code",
   "execution_count": 32,
   "id": "90f9d4af-29f8-468b-ab75-85bf2b40f4ec",
   "metadata": {},
   "outputs": [],
   "source": [
    "assert(x < 5)"
   ]
  },
  {
   "cell_type": "code",
   "execution_count": 33,
   "id": "a8a2c798-86f4-4fb9-80eb-5c79845a9772",
   "metadata": {},
   "outputs": [],
   "source": [
    "x = 6"
   ]
  },
  {
   "cell_type": "code",
   "execution_count": 34,
   "id": "e2a6068d-d507-4b4d-954a-dbf40e97be1e",
   "metadata": {},
   "outputs": [
    {
     "ename": "AssertionError",
     "evalue": "",
     "output_type": "error",
     "traceback": [
      "\u001b[1;31m---------------------------------------------------------------------------\u001b[0m",
      "\u001b[1;31mAssertionError\u001b[0m                            Traceback (most recent call last)",
      "\u001b[1;32m<ipython-input-34-0ab0ac40a183>\u001b[0m in \u001b[0;36m<module>\u001b[1;34m\u001b[0m\n\u001b[1;32m----> 1\u001b[1;33m \u001b[1;32massert\u001b[0m\u001b[1;33m(\u001b[0m\u001b[0mx\u001b[0m \u001b[1;33m<\u001b[0m \u001b[1;36m5\u001b[0m\u001b[1;33m)\u001b[0m\u001b[1;33m\u001b[0m\u001b[1;33m\u001b[0m\u001b[0m\n\u001b[0m",
      "\u001b[1;31mAssertionError\u001b[0m: "
     ]
    }
   ],
   "source": [
    "assert(x < 5)"
   ]
  },
  {
   "cell_type": "code",
   "execution_count": null,
   "id": "2e9d3733-5f02-4b02-8a18-a709a971a02e",
   "metadata": {},
   "outputs": [],
   "source": []
  }
 ],
 "metadata": {
  "kernelspec": {
   "display_name": "Python 3",
   "language": "python",
   "name": "python3"
  },
  "language_info": {
   "codemirror_mode": {
    "name": "ipython",
    "version": 3
   },
   "file_extension": ".py",
   "mimetype": "text/x-python",
   "name": "python",
   "nbconvert_exporter": "python",
   "pygments_lexer": "ipython3",
   "version": "3.8.8"
  }
 },
 "nbformat": 4,
 "nbformat_minor": 5
}
